{
 "cells": [
  {
   "cell_type": "markdown",
   "id": "6eb10ebc",
   "metadata": {
    "deletable": false,
    "editable": false,
    "nbgrader": {
     "cell_type": "markdown",
     "checksum": "b92db13317f0e6015961bb08b3e82abe",
     "grade": false,
     "grade_id": "cell-5cf52405126f2776",
     "locked": true,
     "schema_version": 3,
     "solution": false,
     "task": false
    }
   },
   "source": [
    "# Python File Objects"
   ]
  },
  {
   "cell_type": "markdown",
   "id": "dde64ab9",
   "metadata": {
    "deletable": false,
    "editable": false,
    "nbgrader": {
     "cell_type": "markdown",
     "checksum": "a387926e4abf68d9b2700ae2a55753ff",
     "grade": false,
     "grade_id": "cell-c7eab4c0d23e582f",
     "locked": true,
     "schema_version": 3,
     "solution": false,
     "task": false
    }
   },
   "source": [
    "### Instructions\n",
    "\n",
    "* Complete the programming exercises below.\n",
    "* Delete or comment out the line of code in each cell which says `raise NotImplementedError()` and replace it with your own.\n",
    "\n",
    "### Exercises"
   ]
  },
  {
   "cell_type": "markdown",
   "id": "d585affc",
   "metadata": {
    "deletable": false,
    "editable": false,
    "nbgrader": {
     "cell_type": "markdown",
     "checksum": "5883ccb9de705b4500eda96036feedf3",
     "grade": false,
     "grade_id": "cell-e901448fcdc0d1d8",
     "locked": true,
     "schema_version": 3,
     "solution": false,
     "task": false
    }
   },
   "source": [
    "## Path to file or directory\n",
    "\n",
    "Sometimes you want to work with files in a particular directory. In order to do that you need to get the path. There are a couple different ways you can do that.\n",
    "\n",
    "In Windows you can open a command prompt (in Mac a terminal window) and drag the file or folder to the command prompt and the path will display in the window. You can then copy the path and paste it into your code. It will probably look something like this.\n",
    "\n",
    "`C:\\Users\\UserName\\Documents`\n",
    "\n",
    "To use the path in your code, you will want to assign it to a variable.\n",
    "\n",
    "`file_path = 'C:\\Users\\UserName\\Documents'`\n",
    "\n",
    "Windows users will quickly realize that their path as Windows formats it causes error when used without some modification. (Mac users won't have this problem because Macs format the path in a way that Python can use it without modification.) This is a problem for Windows users because Windows uses backslash (\\) characters in the file path. In Python, the backslash character is a special character. To use special characters in strings in Python, they need to have an escape character added before the special character. In Python, the escape character is the backslash (\\). One option Windows users have is to add an extra backslash in front of every backslash in the path. It will look like this.\n",
    "\n",
    "`file_path = 'C:\\\\Users\\\\UserName\\\\Documents'`\n",
    "\n",
    "Another option is to change each backslash (\\) to a forward slash (/).\n",
    "\n",
    "`file_path = 'C:/Users/UserName/Documents'`\n",
    "\n",
    "Another option is to format the string as a raw string. This option saves a lot of typing. This is done in Python by adding a lowercase `r` in front of the quotation marks for the string. This is a signal to Python to treat the string exactly as it is formatted and consider any special characters included in the string as literal characters.\n",
    "\n",
    "`file_path = r'C:\\Users\\UserName\\Documents'`\n",
    "\n",
    "Another option is to use a graphical user interface included in Python (called tkinter) to open a dialog window and allow the user to select the file or directory of interest. Run the code block below to use the file dialog to select the files directory included in the repository for this assignment. (Be sure to select the inner files directory which actually contains the files needed for the assignment.)"
   ]
  },
  {
   "cell_type": "code",
   "execution_count": 2,
   "id": "6cbe2b94",
   "metadata": {
    "deletable": false,
    "editable": false,
    "nbgrader": {
     "cell_type": "code",
     "checksum": "feca7292f76a7194a482af7131a209a0",
     "grade": false,
     "grade_id": "cell-183af8e202482f24",
     "locked": true,
     "schema_version": 3,
     "solution": false,
     "task": false
    }
   },
   "outputs": [
    {
     "name": "stdout",
     "output_type": "stream",
     "text": [
      "Opening dialogue box for folder selection. Please choose a folder.\n"
     ]
    },
    {
     "name": "stderr",
     "output_type": "stream",
     "text": [
      "2023-10-23 13:34:03.352 python[10191:9936716] +[CATransaction synchronize] called within transaction\n",
      "2023-10-23 13:34:03.368 python[10191:9936716] +[CATransaction synchronize] called within transaction\n",
      "2023-10-23 13:34:13.255 python[10191:9936716] +[CATransaction synchronize] called within transaction\n",
      "2023-10-23 13:34:20.409 python[10191:9936716] +[CATransaction synchronize] called within transaction\n",
      "2023-10-23 13:34:20.424 python[10191:9936716] +[CATransaction synchronize] called within transaction\n",
      "2023-10-23 13:34:20.448 python[10191:9936716] +[CATransaction synchronize] called within transaction\n",
      "2023-10-23 13:34:20.458 python[10191:9936716] +[CATransaction synchronize] called within transaction\n",
      "2023-10-23 13:34:20.474 python[10191:9936716] +[CATransaction synchronize] called within transaction\n",
      "2023-10-23 13:34:20.490 python[10191:9936716] +[CATransaction synchronize] called within transaction\n",
      "2023-10-23 13:34:20.508 python[10191:9936716] +[CATransaction synchronize] called within transaction\n",
      "2023-10-23 13:34:20.525 python[10191:9936716] +[CATransaction synchronize] called within transaction\n",
      "2023-10-23 13:34:20.541 python[10191:9936716] +[CATransaction synchronize] called within transaction\n",
      "2023-10-23 13:34:20.559 python[10191:9936716] +[CATransaction synchronize] called within transaction\n",
      "2023-10-23 13:34:20.574 python[10191:9936716] +[CATransaction synchronize] called within transaction\n",
      "2023-10-23 13:34:20.592 python[10191:9936716] +[CATransaction synchronize] called within transaction\n",
      "2023-10-23 13:34:20.609 python[10191:9936716] +[CATransaction synchronize] called within transaction\n",
      "2023-10-23 13:34:20.624 python[10191:9936716] +[CATransaction synchronize] called within transaction\n",
      "2023-10-23 13:34:20.642 python[10191:9936716] +[CATransaction synchronize] called within transaction\n",
      "2023-10-23 13:34:20.657 python[10191:9936716] +[CATransaction synchronize] called within transaction\n",
      "2023-10-23 13:34:20.674 python[10191:9936716] +[CATransaction synchronize] called within transaction\n",
      "2023-10-23 13:34:20.691 python[10191:9936716] +[CATransaction synchronize] called within transaction\n",
      "2023-10-23 13:34:20.708 python[10191:9936716] +[CATransaction synchronize] called within transaction\n",
      "2023-10-23 13:34:20.725 python[10191:9936716] +[CATransaction synchronize] called within transaction\n",
      "2023-10-23 13:34:20.742 python[10191:9936716] +[CATransaction synchronize] called within transaction\n",
      "2023-10-23 13:34:20.759 python[10191:9936716] +[CATransaction synchronize] called within transaction\n",
      "2023-10-23 13:34:20.775 python[10191:9936716] +[CATransaction synchronize] called within transaction\n",
      "2023-10-23 13:34:20.792 python[10191:9936716] +[CATransaction synchronize] called within transaction\n",
      "2023-10-23 13:34:20.810 python[10191:9936716] +[CATransaction synchronize] called within transaction\n",
      "2023-10-23 13:34:20.826 python[10191:9936716] +[CATransaction synchronize] called within transaction\n",
      "2023-10-23 13:34:20.842 python[10191:9936716] +[CATransaction synchronize] called within transaction\n",
      "2023-10-23 13:34:20.860 python[10191:9936716] +[CATransaction synchronize] called within transaction\n",
      "2023-10-23 13:34:20.874 python[10191:9936716] +[CATransaction synchronize] called within transaction\n",
      "2023-10-23 13:34:20.891 python[10191:9936716] +[CATransaction synchronize] called within transaction\n",
      "2023-10-23 13:34:21.275 python[10191:9936716] +[CATransaction synchronize] called within transaction\n",
      "2023-10-23 13:34:21.459 python[10191:9936716] +[CATransaction synchronize] called within transaction\n",
      "2023-10-23 13:34:21.474 python[10191:9936716] +[CATransaction synchronize] called within transaction\n",
      "2023-10-23 13:34:21.494 python[10191:9936716] +[CATransaction synchronize] called within transaction\n",
      "2023-10-23 13:34:21.519 python[10191:9936716] +[CATransaction synchronize] called within transaction\n",
      "2023-10-23 13:34:21.524 python[10191:9936716] +[CATransaction synchronize] called within transaction\n",
      "2023-10-23 13:34:21.543 python[10191:9936716] +[CATransaction synchronize] called within transaction\n",
      "2023-10-23 13:34:21.559 python[10191:9936716] +[CATransaction synchronize] called within transaction\n",
      "2023-10-23 13:34:21.575 python[10191:9936716] +[CATransaction synchronize] called within transaction\n",
      "2023-10-23 13:34:21.592 python[10191:9936716] +[CATransaction synchronize] called within transaction\n",
      "2023-10-23 13:34:21.609 python[10191:9936716] +[CATransaction synchronize] called within transaction\n",
      "2023-10-23 13:34:21.625 python[10191:9936716] +[CATransaction synchronize] called within transaction\n",
      "2023-10-23 13:34:21.643 python[10191:9936716] +[CATransaction synchronize] called within transaction\n",
      "2023-10-23 13:34:21.660 python[10191:9936716] +[CATransaction synchronize] called within transaction\n",
      "2023-10-23 13:34:21.675 python[10191:9936716] +[CATransaction synchronize] called within transaction\n",
      "2023-10-23 13:34:21.876 python[10191:9936716] +[CATransaction synchronize] called within transaction\n",
      "2023-10-23 13:34:21.891 python[10191:9936716] +[CATransaction synchronize] called within transaction\n"
     ]
    },
    {
     "name": "stdout",
     "output_type": "stream",
     "text": [
      "Folder selected:\n",
      "/Users/courtneygauchel/Downloads/exerPythCombineFiles-master/old\n"
     ]
    }
   ],
   "source": [
    "# Have user select the folder with the needed files.\n",
    "import tkinter as tk\n",
    "from tkinter import filedialog\n",
    "\n",
    "root = tk.Tk()\n",
    "root.lift()\n",
    "root.withdraw()\n",
    "\n",
    "# This code block will open a specific file. (Uncomment the lines after this comment to use them.)\n",
    "#print('Opening dialogue box for file selection. Please choose a file.')\n",
    "#file_path = filedialog.askopenfilename()\n",
    "#print('File selected:')\n",
    "\n",
    "# This code block will get a directory path. (Uncomment the lines after this comment to use them.)\n",
    "print('Opening dialogue box for folder selection. Please choose a folder.')\n",
    "file_path = filedialog.askdirectory()\n",
    "print('Folder selected:')\n",
    "\n",
    "print(file_path)"
   ]
  },
  {
   "cell_type": "markdown",
   "id": "c25e136f",
   "metadata": {
    "deletable": false,
    "editable": false,
    "nbgrader": {
     "cell_type": "markdown",
     "checksum": "53909d360d9af048066cffc30634b1a6",
     "grade": false,
     "grade_id": "cell-d16626c0c6bbe05e",
     "locked": true,
     "schema_version": 3,
     "solution": false,
     "task": false
    }
   },
   "source": [
    "## Working with different file types in Python\n",
    "\n",
    "The purpose of this assignment is to see how to work with different file types in Python. Run the code block below to see the different types of files included in the folder."
   ]
  },
  {
   "cell_type": "code",
   "execution_count": 3,
   "id": "d79836bd",
   "metadata": {
    "deletable": false,
    "editable": false,
    "nbgrader": {
     "cell_type": "code",
     "checksum": "1b4b1b7e9b0f816a028b9aa9ecbb3e56",
     "grade": false,
     "grade_id": "cell-63ec098105c6360f",
     "locked": true,
     "schema_version": 3,
     "solution": false,
     "task": false
    }
   },
   "outputs": [
    {
     "name": "stdout",
     "output_type": "stream",
     "text": [
      "All files in folder:  ['Combine multiple file types with same columns into dataframe.ipynb'] \n",
      "\n",
      "CSV files:  [] \n",
      "Excel files:  [] \n",
      "JSON files:  [] \n",
      "XML files:  []\n"
     ]
    }
   ],
   "source": [
    "# Make sure correct files are recognized.\n",
    "\n",
    "import os\n",
    "import pandas as pd\n",
    "\n",
    "# List the files in the directory.\n",
    "files = os.listdir(file_path)\n",
    "print('All files in folder: ', files, '\\n')\n",
    "\n",
    "# List of file types we want to add\n",
    "file_types = ['xlsx','csv','json','xml']\n",
    "\n",
    "# create a list of files for each file type\n",
    "files_csv = [f for f in files if f[-3:] == 'csv']\n",
    "files_xlsx = [f for f in files if f[-4:] == 'xlsx']\n",
    "files_json = [f for f in files if f[-4:] == 'json']\n",
    "files_xml = [f for f in files if f[-3:] == 'xml']\n",
    "\n",
    "print('CSV files: ', files_csv, '\\nExcel files: ', files_xlsx, '\\nJSON files: ',files_json, '\\nXML files: ', files_xml)"
   ]
  },
  {
   "cell_type": "markdown",
   "id": "41ecb133",
   "metadata": {
    "deletable": false,
    "editable": false,
    "nbgrader": {
     "cell_type": "markdown",
     "checksum": "036cbdaf3fccb0cf6e64a982dc89dd48",
     "grade": false,
     "grade_id": "cell-a6b8c71f6b3c4122",
     "locked": true,
     "schema_version": 3,
     "solution": false,
     "task": false
    }
   },
   "source": [
    "Write you answers as comments in the cell below.\n",
    "\n",
    "* What types of files are included in the folder? List the file extensions and how many of each type you see."
   ]
  },
  {
   "cell_type": "code",
   "execution_count": null,
   "id": "b231323f",
   "metadata": {
    "deletable": false,
    "nbgrader": {
     "cell_type": "code",
     "checksum": "411e33553ef624d8113dc68030dcd2e7",
     "grade": true,
     "grade_id": "cell-2e7557a700ca381e",
     "locked": false,
     "points": 2,
     "schema_version": 3,
     "solution": true,
     "task": false
    }
   },
   "outputs": [],
   "source": [
    "#CSV files, Excel files, JSON files, and XML files\n",
    "#This is what my code output: \n",
    "#CSV files: 2 \n",
    "#Excel files: 2\n",
    "#JSON files: 3\n",
    "#XML files: 3"
   ]
  },
  {
   "cell_type": "markdown",
   "id": "b39c2827",
   "metadata": {
    "deletable": false,
    "editable": false,
    "nbgrader": {
     "cell_type": "markdown",
     "checksum": "616728e37e1fc6e8975a812b35ba637d",
     "grade": false,
     "grade_id": "cell-49ef237b3b87c9ef",
     "locked": true,
     "schema_version": 3,
     "solution": false,
     "task": false
    }
   },
   "source": [
    "## Creating a Pandas dataframe\n",
    "\n",
    "Run the code block below to read each data file and combine them into a Pandas dataframe."
   ]
  },
  {
   "cell_type": "code",
   "execution_count": 5,
   "id": "fe8ee1d1",
   "metadata": {
    "deletable": false,
    "editable": false,
    "nbgrader": {
     "cell_type": "code",
     "checksum": "63101f07169f46ab9e272e861b050aff",
     "grade": false,
     "grade_id": "cell-777c52aa20d58ca8",
     "locked": true,
     "schema_version": 3,
     "solution": false,
     "task": false
    }
   },
   "outputs": [
    {
     "name": "stdout",
     "output_type": "stream",
     "text": [
      "0\n"
     ]
    },
    {
     "data": {
      "text/html": [
       "<div>\n",
       "<style scoped>\n",
       "    .dataframe tbody tr th:only-of-type {\n",
       "        vertical-align: middle;\n",
       "    }\n",
       "\n",
       "    .dataframe tbody tr th {\n",
       "        vertical-align: top;\n",
       "    }\n",
       "\n",
       "    .dataframe thead th {\n",
       "        text-align: right;\n",
       "    }\n",
       "</style>\n",
       "<table border=\"1\" class=\"dataframe\">\n",
       "  <thead>\n",
       "    <tr style=\"text-align: right;\">\n",
       "      <th></th>\n",
       "    </tr>\n",
       "  </thead>\n",
       "  <tbody>\n",
       "  </tbody>\n",
       "</table>\n",
       "</div>"
      ],
      "text/plain": [
       "Empty DataFrame\n",
       "Columns: []\n",
       "Index: []"
      ]
     },
     "execution_count": 5,
     "metadata": {},
     "output_type": "execute_result"
    }
   ],
   "source": [
    "import json\n",
    "import requests \n",
    "import xml.etree.ElementTree as ET\n",
    "\n",
    "# Iterate through the files in the directory and append each one into the dataframe.\n",
    "# This will only work correctly if the files have the exact same column names.\n",
    "df_list = []\n",
    "for f in files_csv:\n",
    "    data = pd.read_csv(str(file_path) + '/' + str(f), index_col=None, header=0)\n",
    "    data['Source'] = f\n",
    "    df_list.append(data)\n",
    "    \n",
    "for f in files_xlsx:\n",
    "    data = pd.read_excel(str(file_path) + '/' + str(f))\n",
    "    data['Source'] = f\n",
    "    df_list.append(data)\n",
    "    \n",
    "# Iterate through the json files and add data from each to a list.\n",
    "json_list = []\n",
    "for f in files_json:\n",
    "    with open(str(file_path) + '/' + str(f)) as json_file:\n",
    "        json_obj = json.load(json_file)\n",
    "        json_obj['Source'] = f\n",
    "        json_list.append(json_obj.copy())\n",
    "# Turn the combined list into a dataframe.\n",
    "data = pd.DataFrame(json_list)\n",
    "# Add the data frame to the list of dataframes.\n",
    "df_list.append(data)\n",
    "    \n",
    "# Iterate through the xml files and add data from each to a list.\n",
    "xml_list = []\n",
    "for f in files_xml:\n",
    "    # create element tree object \n",
    "    tree = ET.parse(str(file_path) + '/' + str(f))\n",
    "    # get root element \n",
    "    root = tree.getroot()\n",
    "    # create dictionary from XML tags and values\n",
    "    itemdict = {}\n",
    "    for item in root:\n",
    "        itemdict[item.tag] = item.text\n",
    "    itemdict['Source'] = f\n",
    "    xml_list.append(itemdict.copy())\n",
    "# Turn the combined list into a dataframe.\n",
    "data = pd.DataFrame(xml_list)\n",
    "# Add the data frame to the list of dataframes.\n",
    "df_list.append(data)\n",
    "\n",
    "# Combine all the data frames in the list into a single data frame.    \n",
    "df =  pd.concat(df_list, axis=0, ignore_index=True, sort=False)\n",
    "\n",
    "# See how many rows the data frame has.\n",
    "print(len(df.index))\n",
    "\n",
    "# Show the data in the data frame.\n",
    "df"
   ]
  },
  {
   "cell_type": "markdown",
   "id": "b9bcfaa3",
   "metadata": {
    "deletable": false,
    "editable": false,
    "nbgrader": {
     "cell_type": "markdown",
     "checksum": "5ffe1ee85e9a932d57ef6708d9ad2780",
     "grade": false,
     "grade_id": "cell-fc20f8a537557818",
     "locked": true,
     "schema_version": 3,
     "solution": false,
     "task": false
    }
   },
   "source": [
    "## Saving a dataframe to csv\n",
    "\n",
    "Run the code block below to save your new dataframe as a csv file."
   ]
  },
  {
   "cell_type": "code",
   "execution_count": 6,
   "id": "1e3e5a7d",
   "metadata": {
    "deletable": false,
    "editable": false,
    "nbgrader": {
     "cell_type": "code",
     "checksum": "d63ff84c0c6a7b1c4499c1320a82db65",
     "grade": false,
     "grade_id": "cell-8f820404d1d343ed",
     "locked": true,
     "schema_version": 3,
     "solution": false,
     "task": false
    }
   },
   "outputs": [
    {
     "name": "stdout",
     "output_type": "stream",
     "text": [
      "2023-10-23\n",
      "/Users/courtneygauchel/Downloads/exerPythCombineFiles-master/old/NewCombinedFile_2023-10-23.csv\n",
      "File saved.\n"
     ]
    }
   ],
   "source": [
    "# Save the dataframe to a new combined csv file.\n",
    "\n",
    "# Add today's date to the name of the new file.\n",
    "from datetime import date\n",
    "today = date.today()\n",
    "print(today)\n",
    "\n",
    "filename = str(file_path) + '/' + 'NewCombinedFile_' + str(today) + '.csv'\n",
    "print(filename)\n",
    "\n",
    "df.to_csv(filename, index=False)\n",
    "print('File saved.')"
   ]
  },
  {
   "cell_type": "markdown",
   "id": "96b2f34c",
   "metadata": {
    "deletable": false,
    "editable": false,
    "nbgrader": {
     "cell_type": "markdown",
     "checksum": "5caccc71a46288d22884f19f41ba45a2",
     "grade": false,
     "grade_id": "cell-ffeacc8e7cac213c",
     "locked": true,
     "schema_version": 3,
     "solution": false,
     "task": false
    }
   },
   "source": [
    "## Create additional data files\n",
    "\n",
    "Create a new data file for each type included in the folder. (You can use Excel to modify the content in the .xlsx and .csv files and save them under a new name in the same folder. You can use VSCode or Notepad++ to modify the content of an .xml and .json file and save those under a new name in the same folder.) Make sure you create at least one additional file for each type of data file in the folder."
   ]
  },
  {
   "cell_type": "markdown",
   "id": "607b9aa6",
   "metadata": {
    "deletable": false,
    "editable": false,
    "nbgrader": {
     "cell_type": "markdown",
     "checksum": "85db0e5d334b3bfe20b64a4ec1e4c372",
     "grade": false,
     "grade_id": "cell-e54523c23d0f01c1",
     "locked": true,
     "schema_version": 3,
     "solution": false,
     "task": false
    }
   },
   "source": [
    "Enter code in the cell below.\n",
    "\n",
    "* Create a variable called `file_path` which contains the path to the folder where all the data files are included. You can use any of the methods described at the beginning of the notebook (Manually copy the path or copy the code to create a file dialog to choose the correct folder.)"
   ]
  },
  {
   "cell_type": "code",
   "execution_count": 1,
   "id": "e2fa0776",
   "metadata": {
    "deletable": false,
    "nbgrader": {
     "cell_type": "code",
     "checksum": "361e07929d306cd9e8fa4c5ae3709b63",
     "grade": true,
     "grade_id": "cell-9e46a40a2a029afd",
     "locked": false,
     "points": 2,
     "schema_version": 3,
     "solution": true,
     "task": false
    }
   },
   "outputs": [],
   "source": [
    "file_path = '/Users/courtneygauchel/Downloads/exerPythCombineFiles-master/FileTypes'"
   ]
  },
  {
   "cell_type": "markdown",
   "id": "4386fdd2",
   "metadata": {
    "deletable": false,
    "editable": false,
    "nbgrader": {
     "cell_type": "markdown",
     "checksum": "0ae36a589a1d7966b8ab3678102011b5",
     "grade": false,
     "grade_id": "cell-be96adc4fbda881b",
     "locked": true,
     "schema_version": 3,
     "solution": false,
     "task": false
    }
   },
   "source": [
    "Enter code in the cell below.\n",
    "\n",
    "* Add code in the cell below to list the files in the folder and create lists for each data file type. (Hint - It's OK to reuse code from earlier in the assignment.)"
   ]
  },
  {
   "cell_type": "code",
   "execution_count": 7,
   "id": "a650faed",
   "metadata": {
    "deletable": false,
    "nbgrader": {
     "cell_type": "code",
     "checksum": "4510ca612c9ad4a08f90022eeb4db8fa",
     "grade": true,
     "grade_id": "cell-53ce4edf792e3627",
     "locked": false,
     "points": 2,
     "schema_version": 3,
     "solution": true,
     "task": false
    }
   },
   "outputs": [
    {
     "name": "stdout",
     "output_type": "stream",
     "text": [
      "All files in folder:  ['EXCELtest2.xlsx', 'CSVtest2.csv', 'CSVtest2.0.csv', 'XMLtest2.0.xml', '~$MLtest.xml', 'EXCELtest.xlsx', 'EXCELtest2.0.xlsx', 'XMLtest2.xml', 'XMLtest3.xml', 'JSONtest.json', 'JSONtest2.json', 'CSVtest1.0.csv', 'JSONtest3.0.json', 'CSVtest.csv', 'XMLtest1.0.xml', 'XMLtest3.0.xml', 'JSONtest3.json', 'JSONtest1.0.json', 'EXCELtest1.0.xlsx', 'Combine multiple file types with same columns into dataframe.py', 'Combine multiple file types with same columns into dataframe.ipynb', 'JSONtest2.0.json', 'XMLtest.xml'] \n",
      "\n",
      "CSV files:  ['CSVtest2.csv', 'CSVtest2.0.csv', 'CSVtest1.0.csv', 'CSVtest.csv'] \n",
      "Excel files:  ['EXCELtest2.xlsx', 'EXCELtest.xlsx', 'EXCELtest2.0.xlsx', 'EXCELtest1.0.xlsx'] \n",
      "JSON files:  ['JSONtest.json', 'JSONtest2.json', 'JSONtest3.0.json', 'JSONtest3.json', 'JSONtest1.0.json', 'JSONtest2.0.json'] \n",
      "XML files:  ['XMLtest2.0.xml', '~$MLtest.xml', 'XMLtest2.xml', 'XMLtest3.xml', 'XMLtest1.0.xml', 'XMLtest3.0.xml', 'XMLtest.xml']\n"
     ]
    }
   ],
   "source": [
    "import os\n",
    "import pandas as pd\n",
    "\n",
    "# List the files in the directory.\n",
    "files = os.listdir(file_path)\n",
    "print('All files in folder: ', files, '\\n')\n",
    "\n",
    "# List of file types we want to add\n",
    "file_types = ['xlsx','csv','json','xml']\n",
    "\n",
    "# create a list of files for each file type\n",
    "files_csv = [f for f in files if f[-3:] == 'csv']\n",
    "files_xlsx = [f for f in files if f[-4:] == 'xlsx']\n",
    "files_json = [f for f in files if f[-4:] == 'json']\n",
    "files_xml = [f for f in files if f[-3:] == 'xml']\n",
    "\n",
    "print('CSV files: ', files_csv, '\\nExcel files: ', files_xlsx, '\\nJSON files: ',files_json, '\\nXML files: ', files_xml)"
   ]
  },
  {
   "cell_type": "markdown",
   "id": "e56b6eda",
   "metadata": {
    "deletable": false,
    "editable": false,
    "nbgrader": {
     "cell_type": "markdown",
     "checksum": "3e299951d3b6ac2081e24406a31a7bbf",
     "grade": false,
     "grade_id": "cell-9046144d63ad9faf",
     "locked": true,
     "schema_version": 3,
     "solution": false,
     "task": false
    }
   },
   "source": [
    "Write you answers as comments in the cell below.\n",
    "\n",
    "* What types of files are included in the folder? List the file extensions and how many of each type you see."
   ]
  },
  {
   "cell_type": "code",
   "execution_count": null,
   "id": "e93c2e7b",
   "metadata": {
    "deletable": false,
    "nbgrader": {
     "cell_type": "code",
     "checksum": "2e46c44126e2c3d6d31e4f855cca05c1",
     "grade": true,
     "grade_id": "cell-b396c8c422e37b42",
     "locked": false,
     "points": 2,
     "schema_version": 3,
     "solution": true,
     "task": false
    }
   },
   "outputs": [],
   "source": [
    "#.csv = 4\n",
    "#.xlsx = 4\n",
    "#.json = 6\n",
    "#.xml = 7"
   ]
  },
  {
   "cell_type": "markdown",
   "id": "f32084d2",
   "metadata": {
    "deletable": false,
    "editable": false,
    "nbgrader": {
     "cell_type": "markdown",
     "checksum": "ceae4851ebc21a84a51f27ed084ea1d8",
     "grade": false,
     "grade_id": "cell-ac79fbd19d488577",
     "locked": true,
     "schema_version": 3,
     "solution": false,
     "task": false
    }
   },
   "source": [
    "Enter code in the cell below.\n",
    "\n",
    "* Add code in the cell below to read each data file and combine them into a Pandas dataframe and display the dataframe. (Hint - It's OK to reuse code from earlier in the assignment.)"
   ]
  },
  {
   "cell_type": "code",
   "execution_count": 13,
   "id": "de01933e",
   "metadata": {
    "deletable": false,
    "nbgrader": {
     "cell_type": "code",
     "checksum": "8a1dbfe4b4958235b306d12cf4d59785",
     "grade": true,
     "grade_id": "cell-c2d07cf21cd676a1",
     "locked": false,
     "points": 2,
     "schema_version": 3,
     "solution": true,
     "task": false
    }
   },
   "outputs": [
    {
     "name": "stdout",
     "output_type": "stream",
     "text": [
      "             name       date  height  weight\n",
      "0       Jen Smith 2019-05-02   153.0    50.0\n",
      "1       Sam Smith 2019-01-02   160.0    55.0\n",
      "2     Simon Smith        NaT     NaN     NaN\n",
      "3          Sammie        NaT     NaN     NaN\n",
      "4          Jammie        NaT     NaN     NaN\n",
      "..            ...        ...     ...     ...\n",
      "142   Simon Smith        NaT     NaN     NaN\n",
      "143        Sammie        NaT     NaN     NaN\n",
      "144        Jammie        NaT     NaN     NaN\n",
      "145        Jillie        NaT     NaN     NaN\n",
      "146  wonder woman        NaT     NaN     NaN\n",
      "\n",
      "[147 rows x 4 columns]\n"
     ]
    },
    {
     "name": "stderr",
     "output_type": "stream",
     "text": [
      "/var/folders/v_/trlscpw51713n08j65gr98c40000gn/T/ipykernel_28114/3138986223.py:16: FutureWarning: The frame.append method is deprecated and will be removed from pandas in a future version. Use pandas.concat instead.\n",
      "  combined_data = combined_data.append(data, ignore_index=True)\n"
     ]
    }
   ],
   "source": [
    "import os\n",
    "import pandas as pd\n",
    "\n",
    "# Specify the folder path you want to scan for data files\n",
    "folder_path = '/Users/courtneygauchel/Downloads/exerPythCombineFiles-master/FileTypes'\n",
    "\n",
    "# Initialize an empty DataFrame to store the data\n",
    "combined_data = pd.DataFrame()\n",
    "\n",
    "# Iterate through the files in the folder\n",
    "for filename in os.listdir(folder_path):\n",
    "    file_path = os.path.join(folder_path, filename)\n",
    "    # Check if the file is a file (not a directory) and has a supported data extension (e.g., .csv)\n",
    "    if os.path.isfile(file_path) and filename.lower().endswith(('.csv', '.json', '.xlsx', '.xml')):\n",
    "        # Read the data file into a DataFrame and append it to the combined_data\n",
    "        combined_data = combined_data.append(data, ignore_index=True)\n",
    "\n",
    "# Display the combined DataFrame\n",
    "print(combined_data)"
   ]
  },
  {
   "cell_type": "markdown",
   "id": "6328c230",
   "metadata": {
    "deletable": false,
    "editable": false,
    "nbgrader": {
     "cell_type": "markdown",
     "checksum": "d8069c1c76676e7fb2473f9734d61085",
     "grade": false,
     "grade_id": "cell-1f9b56443ee0fe56",
     "locked": true,
     "schema_version": 3,
     "solution": false,
     "task": false
    }
   },
   "source": [
    "Enter code in the cell below.\n",
    "\n",
    "* Add code in the cell below to save your new dataframe as a csv file. (Hint - It's OK to reuse code from earlier in the assignment.)"
   ]
  },
  {
   "cell_type": "code",
   "execution_count": 18,
   "id": "b9166a0c",
   "metadata": {
    "deletable": false,
    "nbgrader": {
     "cell_type": "code",
     "checksum": "f2e3edce85e2bec2716893357ff5dcce",
     "grade": true,
     "grade_id": "cell-737b71ac218cd8c8",
     "locked": false,
     "points": 2,
     "schema_version": 3,
     "solution": true,
     "task": false
    }
   },
   "outputs": [
    {
     "name": "stdout",
     "output_type": "stream",
     "text": [
      "File saved as /Users/courtneygauchel/Downloads/exerPythCombineFiles-master/FileTypes/NewCombinedFile_2023-10-24.csv\n"
     ]
    }
   ],
   "source": [
    "today = date.today()\n",
    "filename = os.path.join(folder_path, 'NewCombinedFile_' + str(today) + '.csv')\n",
    "combined_data.to_csv(filename, index=False)\n",
    "print('File saved as', filename)"
   ]
  },
  {
   "cell_type": "code",
   "execution_count": null,
   "id": "c82dd267",
   "metadata": {},
   "outputs": [],
   "source": []
  }
 ],
 "metadata": {
  "kernelspec": {
   "display_name": "Python 3 (ipykernel)",
   "language": "python",
   "name": "python3"
  },
  "language_info": {
   "codemirror_mode": {
    "name": "ipython",
    "version": 3
   },
   "file_extension": ".py",
   "mimetype": "text/x-python",
   "name": "python",
   "nbconvert_exporter": "python",
   "pygments_lexer": "ipython3",
   "version": "3.11.4"
  }
 },
 "nbformat": 4,
 "nbformat_minor": 5
}
